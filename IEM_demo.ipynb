{
 "cells": [
  {
   "cell_type": "markdown",
   "metadata": {},
   "source": [
    "Now the IEM function written to handle orientation data (or data arrayed over 0:179 space). This will also use an iterating method to compute a full 180 point reconstruction (instead of multiplying a 9-point function by the basis set to make it smooth). See the cell immediately below this one for a sample call. Could easily modify to handle 0:359 data. "
   ]
  },
  {
   "cell_type": "code",
   "execution_count": 5,
   "metadata": {
    "collapsed": false
   },
   "outputs": [
    {
     "name": "stdout",
     "output_type": "stream",
     "text": [
      "reading and converting: locDat.mat\n",
      "reading and converting: locOri.mat\n",
      "reading and converting: wmDat.mat\n",
      "reading and converting: wmOri.mat\n"
     ]
    },
    {
     "data": {
      "image/png": "[encoded data removed]",
      "text/plain": [
       "<matplotlib.figure.Figure at 0x27dfb52b940>"
      ]
     },
     "metadata": {},
     "output_type": "display_data"
    }
   ],
   "source": [
    "import numpy as np\n",
    "import matplotlib.pyplot as plt\n",
    "import runIEM as iem\n",
    "import labtools as lt\n",
    "\n",
    "# run the runIEM function with some completely independent training and test data. \n",
    "\n",
    "num_chans = 9  # number of channels to model\n",
    "\n",
    "# read in the mat files (and convert to npy) for the training/test data and the labels for each. \n",
    "trn_data = lt.readMatData('locDat.mat', 'locDatIEM', 'locDat')\n",
    "# note the type cast to a signed int from unsigned int8...this is really really important because\n",
    "# if you do basic operations that should return negative values like 90-uint8(111) then it will not\n",
    "# work as anticipated!\n",
    "trn_labels = np.int16(lt.readMatData('locOri.mat', 'locOriIEM', 'locDatOri'))\n",
    "\n",
    "# read in data from the WM task\n",
    "tst_data = lt.readMatData('wmDat.mat', 'wmDatIEM', 'locDat')\n",
    "# note the type cast to a signed int from unsigned int8!!!!\n",
    "tst_labels = np.int16(lt.readMatData('wmOri.mat', 'wmOriIEM', 'wmDatOri')) \n",
    "\n",
    "# def runIEM(trn_data, tst_data, trn_labels, tst_labels, num_chans):\n",
    "# returns a trial x 180 point recon matrix \n",
    "cent_chan_response = iem.runIEM(trn_data, tst_data, trn_labels, tst_labels, num_chans)\n",
    "\n",
    "# and then plot the complete 180 point reconstruction\n",
    "x=np.arange(0, np.pi, np.pi/180) \n",
    "plt.plot((x-(np.pi/2))*(180/np.pi), np.mean(cent_chan_response, axis=0), color='red')          # plot 1st row of data (response on each of 320 trials)\n",
    "plt.xlabel('Orientation offset')\n",
    "plt.ylabel('Amplitude')\n",
    "plt.title('IEM-based recon')\n",
    "plt.show()"
   ]
  },
  {
   "cell_type": "code",
   "execution_count": null,
   "metadata": {
    "collapsed": true
   },
   "outputs": [],
   "source": []
  }
 ],
 "metadata": {
  "kernelspec": {
   "display_name": "Python 3",
   "language": "python",
   "name": "python3"
  },
  "language_info": {
   "codemirror_mode": {
    "name": "ipython",
    "version": 3
   },
   "file_extension": ".py",
   "mimetype": "text/x-python",
   "name": "python",
   "nbconvert_exporter": "python",
   "pygments_lexer": "ipython3",
   "version": "3.6.0"
  }
 },
 "nbformat": 4,
 "nbformat_minor": 2
}
