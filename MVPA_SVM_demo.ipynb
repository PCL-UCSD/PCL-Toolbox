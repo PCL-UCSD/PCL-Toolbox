{
 "cells": [
  {
   "cell_type": "markdown",
   "metadata": {},
   "source": [
    "js 05252017 v1\n",
    "Set up a set of functions that we might want to use for general preprocessing of data. Then some other stuff to deal with importing .mat files and converting into npy files so that we can use the numpy load/save functions."
   ]
  },
  {
   "cell_type": "markdown",
   "metadata": {},
   "source": [
    "Now do everything else from reading in mat data to classification...could easily adapt this to loop over subjects and visual areas using a for loop at the top and just defining the input mat file names for each subject/area (or if one mat file per subject that has data from all areas then you just need to change the second call to readMatData which dictates what field to read out of the mat file)...\n",
    "These data files are from one of RR's studies from V1 where she used an independent localizer task as a training set and then a WM task as test data. The orientations are drawn (with some constraint) from a uniform distribution over 1:180 (in matlab style 1-based indexing...here need to make this a 0:179 space) "
   ]
  },
  {
   "cell_type": "code",
   "execution_count": 5,
   "metadata": {
    "collapsed": false,
    "scrolled": true
   },
   "outputs": [
    {
     "name": "stdout",
     "output_type": "stream",
     "text": [
      "reading and converting: locDat.mat\n",
      "reading and converting: locOri.mat\n",
      "reading and converting: wmDat.mat\n",
      "reading and converting: wmOri.mat\n",
      "Accuracy =  0.38271604938271603\n",
      "Chance Accuracy =  0.16666666666666666\n"
     ]
    },
    {
     "data": {
      "image/png": "[encoded data removed]",
      "text/plain": [
       "<matplotlib.figure.Figure at 0x2aa175c6c18>"
      ]
     },
     "metadata": {},
     "output_type": "display_data"
    }
   ],
   "source": [
    "# import libs\n",
    "import numpy as np\n",
    "import scipy.io as sio\n",
    "import matplotlib.pyplot as plt\n",
    "from sklearn import svm\n",
    "import labtools as lt\n",
    "\n",
    "# read in the data from mat files and then save out as npy files...\n",
    "locDat = lt.readMatData('locDat.mat', 'locDatIEM', 'locDat')\n",
    "locOri = lt.readMatData('locOri.mat', 'locOriIEM', 'locDatOri')\n",
    "\n",
    "# read in data from the WM task\n",
    "wmDat = lt.readMatData('wmDat.mat', 'wmDatIEM', 'locDat')\n",
    "wmOri = lt.readMatData('wmOri.mat', 'wmOriIEM', 'wmDatOri')\n",
    "\n",
    "# then sort the trial labels into discrete bins where mod 180/num_bins == 0  \n",
    "num_bins = 6\n",
    "locOri_binned = lt.binOrientations(locOri, 6)\n",
    "wmOri_binned = lt.binOrientations(wmOri, 6)\n",
    "\n",
    "# could scale the data if you want...\n",
    "# locDat = scaleData(locDat,0,1)\n",
    "# wmDat = scaleData(wmDat,0,1)\n",
    "\n",
    "# Now define a classifier, then train and test \n",
    "clf = svm.LinearSVC(C=1.0, multi_class='crammer_singer')\n",
    "#clf = svm.SVC(C=1.0, kernel='rbf', decision_function_shape='ovo')   #rbf kernel with one vs one scheme\n",
    "\n",
    "# fit the model\n",
    "clf.fit(locDat, locOri_binned) \n",
    "\n",
    "# test the model\n",
    "pred_labels = clf.predict(wmDat)  \n",
    "\n",
    "# this will return the orientation of each correct classification guess. \n",
    "classCorrect = [i for i, j in zip(pred_labels, wmOri_binned) if i == j]\n",
    "\n",
    "# compute accuracy\n",
    "acc = len(classCorrect)/len(wmOri_binned)\n",
    "\n",
    "print(\"Accuracy = \",acc)\n",
    "print(\"Chance Accuracy = \",1/num_bins)\n",
    "\n",
    "# then output a plot of how many correct guesses were made for each orienation bin. \n",
    "plt.hist(classCorrect, num_bins, normed=0, facecolor='green', alpha=.5)          # plot 1st row of data (response on each of 320 trials)\n",
    "plt.title('Histo of correct guesses for each orientation')\n",
    "plt.xlabel('Orientation bin')\n",
    "plt.ylabel('Frequency (trials)')\n",
    "plt.show()"
   ]
  },
  {
   "cell_type": "code",
   "execution_count": null,
   "metadata": {
    "collapsed": true
   },
   "outputs": [],
   "source": []
  }
 ],
 "metadata": {
  "kernelspec": {
   "display_name": "Python 3",
   "language": "python",
   "name": "python3"
  },
  "language_info": {
   "codemirror_mode": {
    "name": "ipython",
    "version": 3
   },
   "file_extension": ".py",
   "mimetype": "text/x-python",
   "name": "python",
   "nbconvert_exporter": "python",
   "pygments_lexer": "ipython3",
   "version": "3.6.0"
  }
 },
 "nbformat": 4,
 "nbformat_minor": 2
}
